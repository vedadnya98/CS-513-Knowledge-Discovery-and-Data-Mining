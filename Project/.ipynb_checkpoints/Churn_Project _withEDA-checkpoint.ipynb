{
 "cells": [
  {
   "cell_type": "code",
   "execution_count": 1,
   "metadata": {},
   "outputs": [],
   "source": [
    "#Libraries\n",
    "import pandas as pd\n",
    "import numpy as np\n",
    "import matplotlib.pyplot as plt \n",
    "import sklearn\n",
    "from sklearn.feature_selection import SelectKBest\n",
    "from sklearn.feature_selection import chi2\n",
    "from sklearn.preprocessing import LabelEncoder,OneHotEncoder\n",
    "from sklearn.neighbors import KNeighborsClassifier\n",
    "from sklearn.naive_bayes import GaussianNB\n",
    "from sklearn.tree import DecisionTreeClassifier\n",
    "from sklearn.cluster import KMeans\n",
    "from sklearn.ensemble import RandomForestClassifier\n",
    "from sklearn.neural_network import MLPClassifier\n",
    "from sklearn.linear_model import LogisticRegression\n",
    "from sklearn.linear_model import SGDClassifier\n",
    "from sklearn.svm import SVC\n",
    "from sklearn.model_selection import train_test_split\n",
    "from sklearn import metrics\n",
    "from sklearn.metrics import confusion_matrix\n",
    "import pylab as pl\n",
    "import warnings\n",
    "warnings.filterwarnings('ignore')"
   ]
  },
  {
   "cell_type": "code",
   "execution_count": 2,
   "metadata": {},
   "outputs": [
    {
     "data": {
      "text/html": [
       "<div>\n",
       "<style scoped>\n",
       "    .dataframe tbody tr th:only-of-type {\n",
       "        vertical-align: middle;\n",
       "    }\n",
       "\n",
       "    .dataframe tbody tr th {\n",
       "        vertical-align: top;\n",
       "    }\n",
       "\n",
       "    .dataframe thead th {\n",
       "        text-align: right;\n",
       "    }\n",
       "</style>\n",
       "<table border=\"1\" class=\"dataframe\">\n",
       "  <thead>\n",
       "    <tr style=\"text-align: right;\">\n",
       "      <th></th>\n",
       "      <th>CreditScore</th>\n",
       "      <th>Geography</th>\n",
       "      <th>Gender</th>\n",
       "      <th>Age</th>\n",
       "      <th>Tenure</th>\n",
       "      <th>Balance</th>\n",
       "      <th>NumOfProducts</th>\n",
       "      <th>HasCrCard</th>\n",
       "      <th>IsActiveMember</th>\n",
       "      <th>EstimatedSalary</th>\n",
       "    </tr>\n",
       "  </thead>\n",
       "  <tbody>\n",
       "    <tr>\n",
       "      <th>0</th>\n",
       "      <td>619</td>\n",
       "      <td>France</td>\n",
       "      <td>Female</td>\n",
       "      <td>42</td>\n",
       "      <td>2</td>\n",
       "      <td>0.00</td>\n",
       "      <td>1</td>\n",
       "      <td>1</td>\n",
       "      <td>1</td>\n",
       "      <td>101348.88</td>\n",
       "    </tr>\n",
       "    <tr>\n",
       "      <th>1</th>\n",
       "      <td>608</td>\n",
       "      <td>Spain</td>\n",
       "      <td>Female</td>\n",
       "      <td>41</td>\n",
       "      <td>1</td>\n",
       "      <td>83807.86</td>\n",
       "      <td>1</td>\n",
       "      <td>0</td>\n",
       "      <td>1</td>\n",
       "      <td>112542.58</td>\n",
       "    </tr>\n",
       "    <tr>\n",
       "      <th>2</th>\n",
       "      <td>502</td>\n",
       "      <td>France</td>\n",
       "      <td>Female</td>\n",
       "      <td>42</td>\n",
       "      <td>8</td>\n",
       "      <td>159660.80</td>\n",
       "      <td>3</td>\n",
       "      <td>1</td>\n",
       "      <td>0</td>\n",
       "      <td>113931.57</td>\n",
       "    </tr>\n",
       "    <tr>\n",
       "      <th>3</th>\n",
       "      <td>699</td>\n",
       "      <td>France</td>\n",
       "      <td>Female</td>\n",
       "      <td>39</td>\n",
       "      <td>1</td>\n",
       "      <td>0.00</td>\n",
       "      <td>2</td>\n",
       "      <td>0</td>\n",
       "      <td>0</td>\n",
       "      <td>93826.63</td>\n",
       "    </tr>\n",
       "    <tr>\n",
       "      <th>4</th>\n",
       "      <td>850</td>\n",
       "      <td>Spain</td>\n",
       "      <td>Female</td>\n",
       "      <td>43</td>\n",
       "      <td>2</td>\n",
       "      <td>125510.82</td>\n",
       "      <td>1</td>\n",
       "      <td>1</td>\n",
       "      <td>1</td>\n",
       "      <td>79084.10</td>\n",
       "    </tr>\n",
       "  </tbody>\n",
       "</table>\n",
       "</div>"
      ],
      "text/plain": [
       "   CreditScore Geography  Gender  Age  Tenure    Balance  NumOfProducts  \\\n",
       "0          619    France  Female   42       2       0.00              1   \n",
       "1          608     Spain  Female   41       1   83807.86              1   \n",
       "2          502    France  Female   42       8  159660.80              3   \n",
       "3          699    France  Female   39       1       0.00              2   \n",
       "4          850     Spain  Female   43       2  125510.82              1   \n",
       "\n",
       "   HasCrCard  IsActiveMember  EstimatedSalary  \n",
       "0          1               1        101348.88  \n",
       "1          0               1        112542.58  \n",
       "2          1               0        113931.57  \n",
       "3          0               0         93826.63  \n",
       "4          1               1         79084.10  "
      ]
     },
     "metadata": {},
     "output_type": "display_data"
    }
   ],
   "source": [
    "# Loading the CSV with pandas\n",
    "churn_dataframe = pd.read_csv('Churn_Modelling.csv')\n",
    "target = churn_dataframe['Exited']\n",
    "X = churn_dataframe.iloc[:,3:13]\n",
    "target = np.array(target)\n",
    "display(X.head())"
   ]
  },
  {
   "cell_type": "code",
   "execution_count": 3,
   "metadata": {
    "scrolled": true
   },
   "outputs": [
    {
     "data": {
      "text/html": [
       "<div>\n",
       "<style scoped>\n",
       "    .dataframe tbody tr th:only-of-type {\n",
       "        vertical-align: middle;\n",
       "    }\n",
       "\n",
       "    .dataframe tbody tr th {\n",
       "        vertical-align: top;\n",
       "    }\n",
       "\n",
       "    .dataframe thead th {\n",
       "        text-align: right;\n",
       "    }\n",
       "</style>\n",
       "<table border=\"1\" class=\"dataframe\">\n",
       "  <thead>\n",
       "    <tr style=\"text-align: right;\">\n",
       "      <th></th>\n",
       "      <th>CreditScore</th>\n",
       "      <th>Age</th>\n",
       "      <th>Tenure</th>\n",
       "      <th>Balance</th>\n",
       "      <th>NumOfProducts</th>\n",
       "      <th>HasCrCard</th>\n",
       "      <th>IsActiveMember</th>\n",
       "      <th>EstimatedSalary</th>\n",
       "    </tr>\n",
       "  </thead>\n",
       "  <tbody>\n",
       "    <tr>\n",
       "      <th>count</th>\n",
       "      <td>10000.000000</td>\n",
       "      <td>10000.000000</td>\n",
       "      <td>10000.000000</td>\n",
       "      <td>10000.000000</td>\n",
       "      <td>10000.000000</td>\n",
       "      <td>10000.00000</td>\n",
       "      <td>10000.000000</td>\n",
       "      <td>10000.000000</td>\n",
       "    </tr>\n",
       "    <tr>\n",
       "      <th>mean</th>\n",
       "      <td>650.528800</td>\n",
       "      <td>38.921800</td>\n",
       "      <td>5.012800</td>\n",
       "      <td>76485.889288</td>\n",
       "      <td>1.530200</td>\n",
       "      <td>0.70550</td>\n",
       "      <td>0.515100</td>\n",
       "      <td>100090.239881</td>\n",
       "    </tr>\n",
       "    <tr>\n",
       "      <th>std</th>\n",
       "      <td>96.653299</td>\n",
       "      <td>10.487806</td>\n",
       "      <td>2.892174</td>\n",
       "      <td>62397.405202</td>\n",
       "      <td>0.581654</td>\n",
       "      <td>0.45584</td>\n",
       "      <td>0.499797</td>\n",
       "      <td>57510.492818</td>\n",
       "    </tr>\n",
       "    <tr>\n",
       "      <th>min</th>\n",
       "      <td>350.000000</td>\n",
       "      <td>18.000000</td>\n",
       "      <td>0.000000</td>\n",
       "      <td>0.000000</td>\n",
       "      <td>1.000000</td>\n",
       "      <td>0.00000</td>\n",
       "      <td>0.000000</td>\n",
       "      <td>11.580000</td>\n",
       "    </tr>\n",
       "    <tr>\n",
       "      <th>25%</th>\n",
       "      <td>584.000000</td>\n",
       "      <td>32.000000</td>\n",
       "      <td>3.000000</td>\n",
       "      <td>0.000000</td>\n",
       "      <td>1.000000</td>\n",
       "      <td>0.00000</td>\n",
       "      <td>0.000000</td>\n",
       "      <td>51002.110000</td>\n",
       "    </tr>\n",
       "    <tr>\n",
       "      <th>50%</th>\n",
       "      <td>652.000000</td>\n",
       "      <td>37.000000</td>\n",
       "      <td>5.000000</td>\n",
       "      <td>97198.540000</td>\n",
       "      <td>1.000000</td>\n",
       "      <td>1.00000</td>\n",
       "      <td>1.000000</td>\n",
       "      <td>100193.915000</td>\n",
       "    </tr>\n",
       "    <tr>\n",
       "      <th>75%</th>\n",
       "      <td>718.000000</td>\n",
       "      <td>44.000000</td>\n",
       "      <td>7.000000</td>\n",
       "      <td>127644.240000</td>\n",
       "      <td>2.000000</td>\n",
       "      <td>1.00000</td>\n",
       "      <td>1.000000</td>\n",
       "      <td>149388.247500</td>\n",
       "    </tr>\n",
       "    <tr>\n",
       "      <th>max</th>\n",
       "      <td>850.000000</td>\n",
       "      <td>92.000000</td>\n",
       "      <td>10.000000</td>\n",
       "      <td>250898.090000</td>\n",
       "      <td>4.000000</td>\n",
       "      <td>1.00000</td>\n",
       "      <td>1.000000</td>\n",
       "      <td>199992.480000</td>\n",
       "    </tr>\n",
       "  </tbody>\n",
       "</table>\n",
       "</div>"
      ],
      "text/plain": [
       "        CreditScore           Age        Tenure        Balance  NumOfProducts  \\\n",
       "count  10000.000000  10000.000000  10000.000000   10000.000000   10000.000000   \n",
       "mean     650.528800     38.921800      5.012800   76485.889288       1.530200   \n",
       "std       96.653299     10.487806      2.892174   62397.405202       0.581654   \n",
       "min      350.000000     18.000000      0.000000       0.000000       1.000000   \n",
       "25%      584.000000     32.000000      3.000000       0.000000       1.000000   \n",
       "50%      652.000000     37.000000      5.000000   97198.540000       1.000000   \n",
       "75%      718.000000     44.000000      7.000000  127644.240000       2.000000   \n",
       "max      850.000000     92.000000     10.000000  250898.090000       4.000000   \n",
       "\n",
       "         HasCrCard  IsActiveMember  EstimatedSalary  \n",
       "count  10000.00000    10000.000000     10000.000000  \n",
       "mean       0.70550        0.515100    100090.239881  \n",
       "std        0.45584        0.499797     57510.492818  \n",
       "min        0.00000        0.000000        11.580000  \n",
       "25%        0.00000        0.000000     51002.110000  \n",
       "50%        1.00000        1.000000    100193.915000  \n",
       "75%        1.00000        1.000000    149388.247500  \n",
       "max        1.00000        1.000000    199992.480000  "
      ]
     },
     "execution_count": 3,
     "metadata": {},
     "output_type": "execute_result"
    }
   ],
   "source": [
    "X.describe()"
   ]
  },
  {
   "cell_type": "code",
   "execution_count": 4,
   "metadata": {},
   "outputs": [],
   "source": [
    "#Data Pre-Processing\n",
    "\n",
    "#Converting Data to numeric\n",
    "label = LabelEncoder()\n",
    "X['Gender'] = label.fit_transform(X['Gender'])\n",
    "\n",
    "# One hot encode the categorical variables\n",
    "lst = ['Geography']\n",
    "remove = list()\n",
    "for i in lst:\n",
    "    if (X[i].dtype == np.str or X[i].dtype == np.object):\n",
    "        for j in X[i].unique():\n",
    "            X[i+'_'+j] = np.where(X[i] == j,1,-1)\n",
    "        remove.append(i)\n",
    "X = X.drop(remove, axis=1)\n",
    "X.head()\n",
    "\n",
    "X['CreditScoreGivenAge'] = X.CreditScore/(X.Age)\n",
    "X['TenureByAge'] = X.Tenure/(X.Age)\n",
    "X['BalanceSalaryRatio'] = X.Balance/X.EstimatedSalary\n",
    "X.loc[X.HasCrCard == 0, 'HasCrCard'] = -1\n",
    "X.loc[X.IsActiveMember == 0, 'IsActiveMember'] = -1\n",
    "X['CreditScore'] = pd.cut(X.CreditScore, bins=[300, 580,670,740,800,850], labels=[0,1,2,3,4], include_lowest=True)\n",
    "X['CreditScore'] = X['CreditScore'].astype('int64')\n",
    "# X.head()\n",
    "\n",
    "continuous_vars = ['Age','Tenure','Balance','NumOfProducts','EstimatedSalary','CreditScoreGivenAge','TenureByAge','BalanceSalaryRatio']"
   ]
  },
  {
   "cell_type": "markdown",
   "metadata": {},
   "source": [
    "****EXPLORATORY DATA ANALYSIS (EDA)***"
   ]
  },
  {
   "cell_type": "code",
   "execution_count": 5,
   "metadata": {},
   "outputs": [
    {
     "data": {
      "image/png": "[encoded data removed]",
      "text/plain": [
       "<Figure size 720x576 with 1 Axes>"
      ]
     },
     "metadata": {},
     "output_type": "display_data"
    },
    {
     "name": "stdout",
     "output_type": "stream",
     "text": [
      "<class 'pandas.core.frame.DataFrame'>\n",
      "RangeIndex: 10000 entries, 0 to 9999\n",
      "Data columns (total 11 columns):\n",
      "CreditScore        10000 non-null int64\n",
      "Geography          10000 non-null object\n",
      "Gender             10000 non-null object\n",
      "Age                10000 non-null int64\n",
      "Tenure             10000 non-null int64\n",
      "Balance            10000 non-null float64\n",
      "NumOfProducts      10000 non-null int64\n",
      "HasCrCard          10000 non-null int64\n",
      "IsActiveMember     10000 non-null int64\n",
      "EstimatedSalary    10000 non-null float64\n",
      "Exited             10000 non-null int64\n",
      "dtypes: float64(2), int64(7), object(2)\n",
      "memory usage: 859.5+ KB\n"
     ]
    }
   ],
   "source": [
    "#piechart of number of customers who exited and not exited\n",
    "\n",
    "df = churn_dataframe.iloc[:,3:14]\n",
    "\n",
    "labels = 'Exited', 'Retained'\n",
    "sizes = [df.Exited[df['Exited']==1].count(), df.Exited[df['Exited']==0].count()]\n",
    "explode = (0, 0.1)\n",
    "fig1, ax1 = plt.subplots(figsize=(10, 8))\n",
    "ax1.pie(sizes, explode=explode, labels=labels, autopct='%1.1f%%',\n",
    "        shadow=True, startangle=90, colors='cyan')\n",
    "ax1.axis('equal')\n",
    "plt.title(\"Proportion of customer churned and retained\", size = 20)\n",
    "plt.show()\n",
    "df.info()"
   ]
  },
  {
   "cell_type": "code",
   "execution_count": 6,
   "metadata": {},
   "outputs": [
    {
     "data": {
      "image/png": "[encoded data removed]",
      "text/plain": [
       "<Figure size 1152x432 with 1 Axes>"
      ]
     },
     "metadata": {
      "needs_background": "light"
     },
     "output_type": "display_data"
    },
    {
     "data": {
      "image/png": "[encoded data removed]",
      "text/plain": [
       "<Figure size 1152x432 with 1 Axes>"
      ]
     },
     "metadata": {
      "needs_background": "light"
     },
     "output_type": "display_data"
    },
    {
     "data": {
      "image/png": "[encoded data removed]",
      "text/plain": [
       "<Figure size 1152x432 with 1 Axes>"
      ]
     },
     "metadata": {
      "needs_background": "light"
     },
     "output_type": "display_data"
    }
   ],
   "source": [
    "import seaborn as sb\n",
    "\n",
    "#binning Age\n",
    "df['A'] = pd.cut(df.Age, bins=[15,31,46,61,76,96], labels=[\"15-30\",\"31-45\",\"46-60\",\"61-75\",\"76-95\"], include_lowest=True)\n",
    "\n",
    "#Salary vs Age group graph\n",
    "plt.figure(figsize=(16,6))\n",
    "sb.boxplot(df.A, df.EstimatedSalary)\n",
    "plt.ylabel('Annual Salary', fontsize=12)\n",
    "plt.xlabel('Age Group', fontsize=12)\n",
    "plt.title('Salary as per age Group', fontsize=16)\n",
    "plt.show()\n",
    "\n",
    "#Latest Balance vs Age group graph\n",
    "plt.figure(figsize=(16,6))\n",
    "sb.boxplot(df.A, df.Balance)\n",
    "plt.ylabel('Balance to date', fontsize=12)\n",
    "plt.xlabel('Age Group', fontsize=12)\n",
    "plt.title('Balance as per age Group', fontsize=16)\n",
    "plt.show()\n",
    "\n",
    "df.head()\n",
    "\n",
    "#Credit Score vs Age group graph\n",
    "plt.figure(figsize=(16,6))\n",
    "sb.boxplot(df.A, df.CreditScore)\n",
    "plt.ylabel('Credit SCore', fontsize=12)\n",
    "plt.xlabel('Age Group', fontsize=12)\n",
    "plt.title('Credit Score as per Age Group', fontsize=16)\n",
    "plt.show()\n",
    "\n"
   ]
  },
  {
   "cell_type": "code",
   "execution_count": 7,
   "metadata": {},
   "outputs": [
    {
     "data": {
      "text/plain": [
       "Text(0, 0.5, 'Percentage')"
      ]
     },
     "execution_count": 7,
     "metadata": {},
     "output_type": "execute_result"
    },
    {
     "data": {
      "text/plain": [
       "<Figure size 1152x432 with 0 Axes>"
      ]
     },
     "metadata": {},
     "output_type": "display_data"
    },
    {
     "data": {
      "image/png": "[encoded data removed]",
      "text/plain": [
       "<Figure size 432x288 with 1 Axes>"
      ]
     },
     "metadata": {
      "needs_background": "light"
     },
     "output_type": "display_data"
    },
    {
     "data": {
      "image/png": "[encoded data removed]",
      "text/plain": [
       "<Figure size 432x288 with 1 Axes>"
      ]
     },
     "metadata": {
      "needs_background": "light"
     },
     "output_type": "display_data"
    },
    {
     "data": {
      "image/png": "[encoded data removed]",
      "text/plain": [
       "<Figure size 432x288 with 1 Axes>"
      ]
     },
     "metadata": {
      "needs_background": "light"
     },
     "output_type": "display_data"
    },
    {
     "data": {
      "image/png": "[encoded data removed]",
      "text/plain": [
       "<Figure size 432x288 with 1 Axes>"
      ]
     },
     "metadata": {
      "needs_background": "light"
     },
     "output_type": "display_data"
    }
   ],
   "source": [
    "#Bar Graphs\n",
    "\n",
    "plt.figure(figsize=(16,6))\n",
    "\n",
    "#Binning Tenure \n",
    "df['B'] = pd.cut(df.Tenure, bins=[0,3,5,7,9,11], labels=[\"0-2\",\"2-4\",\"4-6\",\"6-8\",\"8-10\"], include_lowest=True)\n",
    "\n",
    "#Tenure vs percentage of exit and not exit\n",
    "tenure_vs_exit = pd.crosstab(df.B,df.Exited).apply(lambda x: (x/x.sum()*100),axis=1)\n",
    "x=tenure_vs_exit.plot.bar()\n",
    "x.set_xlabel(\"Tenure (years)\")\n",
    "x.set_ylabel(\"Percentage\")\n",
    "\n",
    "#Gender vs percentage of exit and not exit\n",
    "y=pd.crosstab(df.Gender,df.Exited).apply(lambda x: (x/x.sum()*100),axis=1).plot.bar()\n",
    "y.set_xlabel(\"Gender\")\n",
    "y.set_ylabel(\"Percentage\")\n",
    "\n",
    "#Age group vs percentage of exit and not exit\n",
    "z = pd.crosstab(df.A,df.Exited).apply(lambda x: (x/x.sum()*100),axis=1).plot.bar()\n",
    "z.set_xlabel(\"Age Group\")\n",
    "z.set_ylabel(\"Percentage\")\n",
    "\n",
    "#Geography vs percentage of exit and not exit\n",
    "z = pd.crosstab(df.Geography,df.Exited).apply(lambda x: (x/x.sum()*100),axis=1).plot.bar()\n",
    "z.set_xlabel(\"Geographic Region\")\n",
    "z.set_ylabel(\"Percentage\")\n",
    "\n"
   ]
  },
  {
   "cell_type": "markdown",
   "metadata": {},
   "source": [
    "***EDA END***"
   ]
  },
  {
   "cell_type": "code",
   "execution_count": 8,
   "metadata": {},
   "outputs": [
    {
     "data": {
      "text/html": [
       "<div>\n",
       "<style scoped>\n",
       "    .dataframe tbody tr th:only-of-type {\n",
       "        vertical-align: middle;\n",
       "    }\n",
       "\n",
       "    .dataframe tbody tr th {\n",
       "        vertical-align: top;\n",
       "    }\n",
       "\n",
       "    .dataframe thead th {\n",
       "        text-align: right;\n",
       "    }\n",
       "</style>\n",
       "<table border=\"1\" class=\"dataframe\">\n",
       "  <thead>\n",
       "    <tr style=\"text-align: right;\">\n",
       "      <th></th>\n",
       "      <th>CreditScore</th>\n",
       "      <th>Gender</th>\n",
       "      <th>Age</th>\n",
       "      <th>Tenure</th>\n",
       "      <th>Balance</th>\n",
       "      <th>NumOfProducts</th>\n",
       "      <th>HasCrCard</th>\n",
       "      <th>IsActiveMember</th>\n",
       "      <th>EstimatedSalary</th>\n",
       "      <th>Geography_France</th>\n",
       "      <th>Geography_Spain</th>\n",
       "      <th>Geography_Germany</th>\n",
       "      <th>CreditScoreGivenAge</th>\n",
       "      <th>TenureByAge</th>\n",
       "      <th>BalanceSalaryRatio</th>\n",
       "    </tr>\n",
       "  </thead>\n",
       "  <tbody>\n",
       "    <tr>\n",
       "      <th>0</th>\n",
       "      <td>1</td>\n",
       "      <td>0</td>\n",
       "      <td>0.324324</td>\n",
       "      <td>0.2</td>\n",
       "      <td>0.000000</td>\n",
       "      <td>0.000000</td>\n",
       "      <td>1</td>\n",
       "      <td>1</td>\n",
       "      <td>0.506735</td>\n",
       "      <td>1</td>\n",
       "      <td>-1</td>\n",
       "      <td>-1</td>\n",
       "      <td>0.235083</td>\n",
       "      <td>0.085714</td>\n",
       "      <td>0.000000</td>\n",
       "    </tr>\n",
       "    <tr>\n",
       "      <th>1</th>\n",
       "      <td>1</td>\n",
       "      <td>0</td>\n",
       "      <td>0.310811</td>\n",
       "      <td>0.1</td>\n",
       "      <td>0.334031</td>\n",
       "      <td>0.000000</td>\n",
       "      <td>-1</td>\n",
       "      <td>1</td>\n",
       "      <td>0.562709</td>\n",
       "      <td>-1</td>\n",
       "      <td>1</td>\n",
       "      <td>-1</td>\n",
       "      <td>0.237252</td>\n",
       "      <td>0.043902</td>\n",
       "      <td>0.000070</td>\n",
       "    </tr>\n",
       "    <tr>\n",
       "      <th>2</th>\n",
       "      <td>0</td>\n",
       "      <td>0</td>\n",
       "      <td>0.324324</td>\n",
       "      <td>0.8</td>\n",
       "      <td>0.636357</td>\n",
       "      <td>0.666667</td>\n",
       "      <td>1</td>\n",
       "      <td>-1</td>\n",
       "      <td>0.569654</td>\n",
       "      <td>1</td>\n",
       "      <td>-1</td>\n",
       "      <td>-1</td>\n",
       "      <td>0.168807</td>\n",
       "      <td>0.342857</td>\n",
       "      <td>0.000132</td>\n",
       "    </tr>\n",
       "    <tr>\n",
       "      <th>3</th>\n",
       "      <td>2</td>\n",
       "      <td>0</td>\n",
       "      <td>0.283784</td>\n",
       "      <td>0.1</td>\n",
       "      <td>0.000000</td>\n",
       "      <td>0.333333</td>\n",
       "      <td>-1</td>\n",
       "      <td>-1</td>\n",
       "      <td>0.469120</td>\n",
       "      <td>1</td>\n",
       "      <td>-1</td>\n",
       "      <td>-1</td>\n",
       "      <td>0.310859</td>\n",
       "      <td>0.046154</td>\n",
       "      <td>0.000000</td>\n",
       "    </tr>\n",
       "    <tr>\n",
       "      <th>4</th>\n",
       "      <td>4</td>\n",
       "      <td>0</td>\n",
       "      <td>0.337838</td>\n",
       "      <td>0.2</td>\n",
       "      <td>0.500246</td>\n",
       "      <td>0.000000</td>\n",
       "      <td>1</td>\n",
       "      <td>1</td>\n",
       "      <td>0.395400</td>\n",
       "      <td>-1</td>\n",
       "      <td>1</td>\n",
       "      <td>-1</td>\n",
       "      <td>0.354739</td>\n",
       "      <td>0.083721</td>\n",
       "      <td>0.000150</td>\n",
       "    </tr>\n",
       "  </tbody>\n",
       "</table>\n",
       "</div>"
      ],
      "text/plain": [
       "   CreditScore  Gender       Age  Tenure   Balance  NumOfProducts  HasCrCard  \\\n",
       "0            1       0  0.324324     0.2  0.000000       0.000000          1   \n",
       "1            1       0  0.310811     0.1  0.334031       0.000000         -1   \n",
       "2            0       0  0.324324     0.8  0.636357       0.666667          1   \n",
       "3            2       0  0.283784     0.1  0.000000       0.333333         -1   \n",
       "4            4       0  0.337838     0.2  0.500246       0.000000          1   \n",
       "\n",
       "   IsActiveMember  EstimatedSalary  Geography_France  Geography_Spain  \\\n",
       "0               1         0.506735                 1               -1   \n",
       "1               1         0.562709                -1                1   \n",
       "2              -1         0.569654                 1               -1   \n",
       "3              -1         0.469120                 1               -1   \n",
       "4               1         0.395400                -1                1   \n",
       "\n",
       "   Geography_Germany  CreditScoreGivenAge  TenureByAge  BalanceSalaryRatio  \n",
       "0                 -1             0.235083     0.085714            0.000000  \n",
       "1                 -1             0.237252     0.043902            0.000070  \n",
       "2                 -1             0.168807     0.342857            0.000132  \n",
       "3                 -1             0.310859     0.046154            0.000000  \n",
       "4                 -1             0.354739     0.083721            0.000150  "
      ]
     },
     "execution_count": 8,
     "metadata": {},
     "output_type": "execute_result"
    }
   ],
   "source": [
    "#Normalization \n",
    "\n",
    "# minMax scaling the continuous variables\n",
    "minVec = X[continuous_vars].min().copy()\n",
    "maxVec = X[continuous_vars].max().copy()\n",
    "X[continuous_vars] = (X[continuous_vars]-minVec)/(maxVec-minVec)\n",
    "X.head()"
   ]
  },
  {
   "cell_type": "code",
   "execution_count": 9,
   "metadata": {},
   "outputs": [],
   "source": [
    "#Training , Testing Split\n",
    "X_train , X_test , y_train , y_test = train_test_split(X , target , test_size = .20 , random_state = 42)"
   ]
  },
  {
   "cell_type": "code",
   "execution_count": 10,
   "metadata": {},
   "outputs": [
    {
     "name": "stdout",
     "output_type": "stream",
     "text": [
      "Accuracy :  0.7805\n",
      "              precision    recall  f1-score   support\n",
      "\n",
      "           0       0.97      0.97      0.97      7963\n",
      "           1       0.89      0.89      0.89      2037\n",
      "\n",
      "    accuracy                           0.96     10000\n",
      "   macro avg       0.93      0.93      0.93     10000\n",
      "weighted avg       0.96      0.96      0.96     10000\n",
      "\n"
     ]
    },
    {
     "data": {
      "image/png": "[encoded data removed]",
      "text/plain": [
       "<Figure size 288x288 with 2 Axes>"
      ]
     },
     "metadata": {
      "needs_background": "light"
     },
     "output_type": "display_data"
    }
   ],
   "source": [
    "#KNN for k=1\n",
    "knnClassifier = KNeighborsClassifier(n_neighbors=1)\n",
    "knnClassifier.fit(X_train , y_train)\n",
    "y_predict = knnClassifier.predict(X_test)\n",
    "\n",
    "# print(metrics.classification_report(y_test,y_predict))\n",
    "acc = metrics.accuracy_score(y_test , y_predict)\n",
    "print(\"Accuracy : \",acc)\n",
    "print(metrics.classification_report(churn_dataframe.Exited,  knnClassifier.predict(X.loc[:, X.columns != 'Exited'])))\n",
    "\n",
    "cm = confusion_matrix(y_test, y_predict)\n",
    "pl.matshow(cm)\n",
    "pl.title('Confusion matrix of the classifier')\n",
    "pl.colorbar()\n",
    "pl.show()"
   ]
  },
  {
   "cell_type": "code",
   "execution_count": 11,
   "metadata": {},
   "outputs": [
    {
     "name": "stdout",
     "output_type": "stream",
     "text": [
      "Accuracy :  0.8095\n",
      "              precision    recall  f1-score   support\n",
      "\n",
      "           0       0.88      0.96      0.92      7963\n",
      "           1       0.76      0.49      0.60      2037\n",
      "\n",
      "    accuracy                           0.86     10000\n",
      "   macro avg       0.82      0.73      0.76     10000\n",
      "weighted avg       0.86      0.86      0.85     10000\n",
      "\n"
     ]
    },
    {
     "data": {
      "image/png": "[encoded data removed]",
      "text/plain": [
       "<Figure size 288x288 with 2 Axes>"
      ]
     },
     "metadata": {
      "needs_background": "light"
     },
     "output_type": "display_data"
    }
   ],
   "source": [
    "#KNN for k=3\n",
    "knnClassifier = KNeighborsClassifier(n_neighbors=3)\n",
    "knnClassifier.fit(X_train , y_train)\n",
    "y_predict = knnClassifier.predict(X_test)\n",
    "\n",
    "# print(metrics.classification_report(y_test,y_predict))\n",
    "acc = metrics.accuracy_score(y_test , y_predict)\n",
    "print(\"Accuracy : \",acc)\n",
    "print(metrics.classification_report(churn_dataframe.Exited,  knnClassifier.predict(X.loc[:, X.columns != 'Exited'])))\n",
    "\n",
    "cm = confusion_matrix(y_test, y_predict)\n",
    "pl.matshow(cm)\n",
    "pl.title('Confusion matrix of the classifier')\n",
    "pl.colorbar()\n",
    "pl.show()"
   ]
  },
  {
   "cell_type": "code",
   "execution_count": 12,
   "metadata": {},
   "outputs": [
    {
     "name": "stdout",
     "output_type": "stream",
     "text": [
      "Accuracy :  0.812\n",
      "              precision    recall  f1-score   support\n",
      "\n",
      "           0       0.86      0.97      0.91      7963\n",
      "           1       0.74      0.36      0.49      2037\n",
      "\n",
      "    accuracy                           0.84     10000\n",
      "   macro avg       0.80      0.67      0.70     10000\n",
      "weighted avg       0.83      0.84      0.82     10000\n",
      "\n"
     ]
    },
    {
     "data": {
      "image/png": "[encoded data removed]",
      "text/plain": [
       "<Figure size 288x288 with 2 Axes>"
      ]
     },
     "metadata": {
      "needs_background": "light"
     },
     "output_type": "display_data"
    }
   ],
   "source": [
    "#KNN for k=5\n",
    "knnClassifier = KNeighborsClassifier(n_neighbors=5)\n",
    "knnClassifier.fit(X_train , y_train)\n",
    "y_predict = knnClassifier.predict(X_test)\n",
    "\n",
    "# print(metrics.classification_report(y_test,y_predict))\n",
    "acc = metrics.accuracy_score(y_test , y_predict)\n",
    "print(\"Accuracy : \",acc)\n",
    "print(metrics.classification_report(churn_dataframe.Exited,  knnClassifier.predict(X.loc[:, X.columns != 'Exited'])))\n",
    "\n",
    "cm = confusion_matrix(y_test, y_predict)\n",
    "pl.matshow(cm)\n",
    "pl.title('Confusion matrix of the classifier')\n",
    "pl.colorbar()\n",
    "pl.show()"
   ]
  },
  {
   "cell_type": "code",
   "execution_count": 13,
   "metadata": {},
   "outputs": [
    {
     "name": "stdout",
     "output_type": "stream",
     "text": [
      "Accuracy :  0.8145\n",
      "              precision    recall  f1-score   support\n",
      "\n",
      "           0       0.82      0.99      0.90      7963\n",
      "           1       0.75      0.17      0.28      2037\n",
      "\n",
      "    accuracy                           0.82     10000\n",
      "   macro avg       0.79      0.58      0.59     10000\n",
      "weighted avg       0.81      0.82      0.77     10000\n",
      "\n"
     ]
    },
    {
     "data": {
      "image/png": "[encoded data removed]",
      "text/plain": [
       "<Figure size 288x288 with 2 Axes>"
      ]
     },
     "metadata": {
      "needs_background": "light"
     },
     "output_type": "display_data"
    }
   ],
   "source": [
    "#KNN for k=10\n",
    "knnClassifier = KNeighborsClassifier(n_neighbors=10)\n",
    "knnClassifier.fit(X_train , y_train)\n",
    "y_predict = knnClassifier.predict(X_test)\n",
    "\n",
    "# print(metrics.classification_report(y_test,y_predict))\n",
    "acc = metrics.accuracy_score(y_test , y_predict)\n",
    "print(\"Accuracy : \",acc)\n",
    "print(metrics.classification_report(churn_dataframe.Exited,  knnClassifier.predict(X.loc[:, X.columns != 'Exited'])))\n",
    "\n",
    "cm = confusion_matrix(y_test, y_predict)\n",
    "pl.matshow(cm)\n",
    "pl.title('Confusion matrix of the classifier')\n",
    "pl.colorbar()\n",
    "pl.show()"
   ]
  },
  {
   "cell_type": "code",
   "execution_count": 14,
   "metadata": {},
   "outputs": [
    {
     "name": "stdout",
     "output_type": "stream",
     "text": [
      "Accuracy :  0.832\n",
      "              precision    recall  f1-score   support\n",
      "\n",
      "           0       0.82      0.99      0.90      7963\n",
      "           1       0.75      0.17      0.28      2037\n",
      "\n",
      "    accuracy                           0.82     10000\n",
      "   macro avg       0.79      0.58      0.59     10000\n",
      "weighted avg       0.81      0.82      0.77     10000\n",
      "\n"
     ]
    },
    {
     "data": {
      "image/png": "[encoded data removed]",
      "text/plain": [
       "<Figure size 288x288 with 2 Axes>"
      ]
     },
     "metadata": {
      "needs_background": "light"
     },
     "output_type": "display_data"
    }
   ],
   "source": [
    "#Naive Bayes\n",
    "NBClassifier = GaussianNB()\n",
    "NBClassifier.fit(X_train , y_train)\n",
    "y_predict = NBClassifier.predict(X_test)\n",
    "\n",
    "# print(metrics.classification_report(y_test,y_predict))\n",
    "acc = metrics.accuracy_score(y_test , y_predict)\n",
    "print(\"Accuracy : \",acc)\n",
    "print(metrics.classification_report(churn_dataframe.Exited,  knnClassifier.predict(X.loc[:, X.columns != 'Exited'])))\n",
    "\n",
    "cm = confusion_matrix(y_test, y_predict)\n",
    "pl.matshow(cm)\n",
    "pl.title('Confusion matrix of the classifier')\n",
    "pl.colorbar()\n",
    "pl.show()"
   ]
  },
  {
   "cell_type": "code",
   "execution_count": 15,
   "metadata": {},
   "outputs": [
    {
     "name": "stdout",
     "output_type": "stream",
     "text": [
      "Accuracy :  0.7925\n",
      "              precision    recall  f1-score   support\n",
      "\n",
      "           0       0.98      0.97      0.97      7963\n",
      "           1       0.89      0.90      0.90      2037\n",
      "\n",
      "    accuracy                           0.96     10000\n",
      "   macro avg       0.93      0.94      0.94     10000\n",
      "weighted avg       0.96      0.96      0.96     10000\n",
      "\n"
     ]
    },
    {
     "data": {
      "image/png": "[encoded data removed]",
      "text/plain": [
       "<Figure size 288x288 with 2 Axes>"
      ]
     },
     "metadata": {
      "needs_background": "light"
     },
     "output_type": "display_data"
    }
   ],
   "source": [
    "#Decision Tree\n",
    "DTClassifier = DecisionTreeClassifier(random_state=0)\n",
    "DTClassifier.fit(X_train , y_train)\n",
    "y_predict = DTClassifier.predict(X_test)\n",
    "\n",
    "# print(metrics.classification_report(y_test,y_predict))\n",
    "acc = metrics.accuracy_score(y_test , y_predict)\n",
    "print(\"Accuracy : \",acc)\n",
    "print(metrics.classification_report(churn_dataframe.Exited,  DTClassifier.predict(X.loc[:, X.columns != 'Exited'])))\n",
    "\n",
    "cm = confusion_matrix(y_test, y_predict)\n",
    "pl.matshow(cm)\n",
    "pl.title('Confusion matrix of the classifier')\n",
    "pl.colorbar()\n",
    "pl.show()"
   ]
  },
  {
   "cell_type": "code",
   "execution_count": 16,
   "metadata": {},
   "outputs": [
    {
     "name": "stdout",
     "output_type": "stream",
     "text": [
      "Accuracy :  0.8575\n",
      "              precision    recall  f1-score   support\n",
      "\n",
      "           0       0.97      0.99      0.98      7963\n",
      "           1       0.96      0.90      0.93      2037\n",
      "\n",
      "    accuracy                           0.97     10000\n",
      "   macro avg       0.97      0.94      0.96     10000\n",
      "weighted avg       0.97      0.97      0.97     10000\n",
      "\n"
     ]
    },
    {
     "data": {
      "image/png": "[encoded data removed]",
      "text/plain": [
       "<Figure size 288x288 with 2 Axes>"
      ]
     },
     "metadata": {
      "needs_background": "light"
     },
     "output_type": "display_data"
    }
   ],
   "source": [
    "#Random Forest\n",
    "RFClassifier = RandomForestClassifier(n_estimators=100 , max_features=15)\n",
    "RFClassifier.fit(X_train , y_train)\n",
    "y_predict = RFClassifier.predict(X_test)\n",
    "\n",
    "# print(metrics.classification_report(y_test,y_predict))\n",
    "acc = metrics.accuracy_score(y_test , y_predict)\n",
    "print(\"Accuracy : \",acc)\n",
    "print(metrics.classification_report(churn_dataframe.Exited,  RFClassifier.predict(X.loc[:, X.columns != 'Exited'])))\n",
    "\n",
    "cm = confusion_matrix(y_test, y_predict)\n",
    "pl.matshow(cm)\n",
    "pl.title('Confusion matrix of the classifier')\n",
    "pl.colorbar()\n",
    "pl.show()"
   ]
  },
  {
   "cell_type": "code",
   "execution_count": null,
   "metadata": {},
   "outputs": [],
   "source": [
    "accuracy = []\n",
    "for k in range(1,200):\n",
    "    RFClassifier = RandomForestClassifier(n_estimators=k , max_features=15)\n",
    "    RFClassifier.fit(X_train , y_train)\n",
    "    y_predict = RFClassifier.predict(X_test)\n",
    "\n",
    "    # print(metrics.classification_report(y_test,y_predict))\n",
    "    acc = metrics.accuracy_score(y_test , y_predict)\n",
    "    accuracy.append(acc)\n",
    "\n",
    "plt.plot(np.arange(k),accuracy)\n",
    "plt.xlabel('Number of K',color='red')\n",
    "plt.ylabel('Accuracy',color='red')\n",
    "plt.title('Accuracy Rate',color='green')\n",
    "plt.show()"
   ]
  },
  {
   "cell_type": "code",
   "execution_count": null,
   "metadata": {},
   "outputs": [],
   "source": [
    "#Artificial Neural Network\n",
    "ANNClassifier = MLPClassifier()\n",
    "ANNClassifier.fit(X_train , y_train)\n",
    "y_predict = ANNClassifier.predict(X_test)\n",
    "\n",
    "# print(metrics.classification_report(y_test,y_predict))\n",
    "acc = metrics.accuracy_score(y_test , y_predict)\n",
    "print(\"Accuracy : \",acc)\n",
    "print(metrics.classification_report(churn_dataframe.Exited,  ANNClassifier.predict(X.loc[:, X.columns != 'Exited'])))\n",
    "\n",
    "cm = confusion_matrix(y_test, y_predict)\n",
    "pl.matshow(cm)\n",
    "pl.title('Confusion matrix of the classifier')\n",
    "pl.colorbar()\n",
    "pl.show()"
   ]
  },
  {
   "cell_type": "code",
   "execution_count": null,
   "metadata": {},
   "outputs": [],
   "source": [
    "#SVM\n",
    "SVMClassifier = SVC()\n",
    "SVMClassifier.fit(X_train , y_train)\n",
    "y_predict = SVMClassifier.predict(X_test)\n",
    "\n",
    "# print(metrics.classification_report(y_test,y_predict))\n",
    "acc = metrics.accuracy_score(y_test , y_predict)\n",
    "print(\"Accuracy : \",acc)\n",
    "print(metrics.classification_report(churn_dataframe.Exited,  SVMClassifier.predict(X.loc[:, X.columns != 'Exited'])))\n",
    "\n",
    "cm = confusion_matrix(y_test, y_predict)\n",
    "pl.matshow(cm)\n",
    "pl.title('Confusion matrix of the classifier')\n",
    "pl.colorbar()\n",
    "pl.show()"
   ]
  },
  {
   "cell_type": "code",
   "execution_count": null,
   "metadata": {},
   "outputs": [],
   "source": []
  }
 ],
 "metadata": {
  "kernelspec": {
   "display_name": "Python 3",
   "language": "python",
   "name": "python3"
  },
  "language_info": {
   "codemirror_mode": {
    "name": "ipython",
    "version": 3
   },
   "file_extension": ".py",
   "mimetype": "text/x-python",
   "name": "python",
   "nbconvert_exporter": "python",
   "pygments_lexer": "ipython3",
   "version": "3.7.3"
  }
 },
 "nbformat": 4,
 "nbformat_minor": 2
}
